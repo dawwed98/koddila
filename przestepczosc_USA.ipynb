{
 "cells": [
  {
   "cell_type": "code",
   "execution_count": 13,
   "metadata": {},
   "outputs": [],
   "source": [
    "import pandas as pd\n",
    "import numpy as np\n",
    "\n",
    "df = pd.read_csv('fatal-police-shootings-data.csv')"
   ]
  },
  {
   "cell_type": "code",
   "execution_count": 14,
   "metadata": {},
   "outputs": [
    {
     "name": "stdout",
     "output_type": "stream",
     "text": [
      "   race  signs_of_mental_illness  counts\n",
      "0     A                    False      69\n",
      "1     A                     True      24\n",
      "2     B                    False    1114\n",
      "3     B                     True     184\n",
      "4     H                    False     745\n",
      "5     H                     True     157\n",
      "6     N                    False      64\n",
      "7     N                     True      14\n",
      "8     O                    False      37\n",
      "9     O                     True      11\n",
      "10    W                    False    1763\n",
      "11    W                     True     713\n"
     ]
    }
   ],
   "source": [
    "grouped = df.groupby(['race', 'signs_of_mental_illness']).size().reset_index(name='counts')\n",
    "print(grouped)\n"
   ]
  },
  {
   "cell_type": "code",
   "execution_count": 15,
   "metadata": {},
   "outputs": [
    {
     "data": {
      "application/vnd.microsoft.datawrangler.viewer.v0+json": {
       "columns": [
        {
         "name": "index",
         "rawType": "int64",
         "type": "integer"
        },
        {
         "name": "race",
         "rawType": "object",
         "type": "string"
        },
        {
         "name": "signs_of_mental_illness",
         "rawType": "bool",
         "type": "boolean"
        },
        {
         "name": "counts",
         "rawType": "int64",
         "type": "integer"
        },
        {
         "name": "odsetek",
         "rawType": "float64",
         "type": "float"
        },
        {
         "name": "odsetek_flag",
         "rawType": "int64",
         "type": "integer"
        }
       ],
       "conversionMethod": "pd.DataFrame",
       "ref": "7170e704-926b-4e25-90a1-5ab550be7e79",
       "rows": [
        [
         "0",
         "A",
         "False",
         "69",
         "0.014096016343207354",
         "0"
        ],
        [
         "1",
         "A",
         "True",
         "24",
         "0.004902962206332993",
         "1"
        ],
        [
         "2",
         "B",
         "False",
         "1114",
         "0.2275791624106231",
         "0"
        ],
        [
         "3",
         "B",
         "True",
         "184",
         "0.03758937691521961",
         "1"
        ],
        [
         "4",
         "H",
         "False",
         "745",
         "0.15219611848825332",
         "0"
        ],
        [
         "5",
         "H",
         "True",
         "157",
         "0.03207354443309499",
         "1"
        ],
        [
         "6",
         "N",
         "False",
         "64",
         "0.013074565883554648",
         "0"
        ],
        [
         "7",
         "N",
         "True",
         "14",
         "0.0028600612870275793",
         "1"
        ],
        [
         "8",
         "O",
         "False",
         "37",
         "0.0075587334014300305",
         "0"
        ],
        [
         "9",
         "O",
         "True",
         "11",
         "0.0022471910112359553",
         "1"
        ],
        [
         "10",
         "W",
         "False",
         "1763",
         "0.36016343207354445",
         "0"
        ],
        [
         "11",
         "W",
         "True",
         "713",
         "0.145658835546476",
         "1"
        ]
       ],
       "shape": {
        "columns": 5,
        "rows": 12
       }
      },
      "text/html": [
       "<div>\n",
       "<style scoped>\n",
       "    .dataframe tbody tr th:only-of-type {\n",
       "        vertical-align: middle;\n",
       "    }\n",
       "\n",
       "    .dataframe tbody tr th {\n",
       "        vertical-align: top;\n",
       "    }\n",
       "\n",
       "    .dataframe thead th {\n",
       "        text-align: right;\n",
       "    }\n",
       "</style>\n",
       "<table border=\"1\" class=\"dataframe\">\n",
       "  <thead>\n",
       "    <tr style=\"text-align: right;\">\n",
       "      <th></th>\n",
       "      <th>race</th>\n",
       "      <th>signs_of_mental_illness</th>\n",
       "      <th>counts</th>\n",
       "      <th>odsetek</th>\n",
       "      <th>odsetek_flag</th>\n",
       "    </tr>\n",
       "  </thead>\n",
       "  <tbody>\n",
       "    <tr>\n",
       "      <th>0</th>\n",
       "      <td>A</td>\n",
       "      <td>False</td>\n",
       "      <td>69</td>\n",
       "      <td>0.014096</td>\n",
       "      <td>0</td>\n",
       "    </tr>\n",
       "    <tr>\n",
       "      <th>1</th>\n",
       "      <td>A</td>\n",
       "      <td>True</td>\n",
       "      <td>24</td>\n",
       "      <td>0.004903</td>\n",
       "      <td>1</td>\n",
       "    </tr>\n",
       "    <tr>\n",
       "      <th>2</th>\n",
       "      <td>B</td>\n",
       "      <td>False</td>\n",
       "      <td>1114</td>\n",
       "      <td>0.227579</td>\n",
       "      <td>0</td>\n",
       "    </tr>\n",
       "    <tr>\n",
       "      <th>3</th>\n",
       "      <td>B</td>\n",
       "      <td>True</td>\n",
       "      <td>184</td>\n",
       "      <td>0.037589</td>\n",
       "      <td>1</td>\n",
       "    </tr>\n",
       "    <tr>\n",
       "      <th>4</th>\n",
       "      <td>H</td>\n",
       "      <td>False</td>\n",
       "      <td>745</td>\n",
       "      <td>0.152196</td>\n",
       "      <td>0</td>\n",
       "    </tr>\n",
       "    <tr>\n",
       "      <th>5</th>\n",
       "      <td>H</td>\n",
       "      <td>True</td>\n",
       "      <td>157</td>\n",
       "      <td>0.032074</td>\n",
       "      <td>1</td>\n",
       "    </tr>\n",
       "    <tr>\n",
       "      <th>6</th>\n",
       "      <td>N</td>\n",
       "      <td>False</td>\n",
       "      <td>64</td>\n",
       "      <td>0.013075</td>\n",
       "      <td>0</td>\n",
       "    </tr>\n",
       "    <tr>\n",
       "      <th>7</th>\n",
       "      <td>N</td>\n",
       "      <td>True</td>\n",
       "      <td>14</td>\n",
       "      <td>0.002860</td>\n",
       "      <td>1</td>\n",
       "    </tr>\n",
       "    <tr>\n",
       "      <th>8</th>\n",
       "      <td>O</td>\n",
       "      <td>False</td>\n",
       "      <td>37</td>\n",
       "      <td>0.007559</td>\n",
       "      <td>0</td>\n",
       "    </tr>\n",
       "    <tr>\n",
       "      <th>9</th>\n",
       "      <td>O</td>\n",
       "      <td>True</td>\n",
       "      <td>11</td>\n",
       "      <td>0.002247</td>\n",
       "      <td>1</td>\n",
       "    </tr>\n",
       "    <tr>\n",
       "      <th>10</th>\n",
       "      <td>W</td>\n",
       "      <td>False</td>\n",
       "      <td>1763</td>\n",
       "      <td>0.360163</td>\n",
       "      <td>0</td>\n",
       "    </tr>\n",
       "    <tr>\n",
       "      <th>11</th>\n",
       "      <td>W</td>\n",
       "      <td>True</td>\n",
       "      <td>713</td>\n",
       "      <td>0.145659</td>\n",
       "      <td>1</td>\n",
       "    </tr>\n",
       "  </tbody>\n",
       "</table>\n",
       "</div>"
      ],
      "text/plain": [
       "   race  signs_of_mental_illness  counts   odsetek  odsetek_flag\n",
       "0     A                    False      69  0.014096             0\n",
       "1     A                     True      24  0.004903             1\n",
       "2     B                    False    1114  0.227579             0\n",
       "3     B                     True     184  0.037589             1\n",
       "4     H                    False     745  0.152196             0\n",
       "5     H                     True     157  0.032074             1\n",
       "6     N                    False      64  0.013075             0\n",
       "7     N                     True      14  0.002860             1\n",
       "8     O                    False      37  0.007559             0\n",
       "9     O                     True      11  0.002247             1\n",
       "10    W                    False    1763  0.360163             0\n",
       "11    W                     True     713  0.145659             1"
      ]
     },
     "execution_count": 15,
     "metadata": {},
     "output_type": "execute_result"
    }
   ],
   "source": [
    "grouped_df = df.groupby(['race', 'signs_of_mental_illness']).size().reset_index(name='counts')\n",
    "\n",
    "def odsetek(x):\n",
    "    if x == True:  # Assuming 'signs_of_mental_illness' is a boolean column\n",
    "        return 1\n",
    "    else:\n",
    "        return 0\n",
    "\n",
    "# Calculate the percentage of cases with mental illness\n",
    "grouped_df['odsetek'] = grouped_df['counts'] / grouped_df['counts'].sum()\n",
    "\n",
    "# Apply the function to create a new column\n",
    "grouped_df['odsetek_flag'] = grouped_df['signs_of_mental_illness'].apply(odsetek)\n",
    "\n",
    "grouped_df\n",
    "\n"
   ]
  },
  {
   "cell_type": "code",
   "execution_count": 17,
   "metadata": {},
   "outputs": [
    {
     "ename": "ModuleNotFoundError",
     "evalue": "No module named 'matplotlib.pyplot'; 'matplotlib' is not a package",
     "output_type": "error",
     "traceback": [
      "\u001b[1;31m---------------------------------------------------------------------------\u001b[0m",
      "\u001b[1;31mModuleNotFoundError\u001b[0m                       Traceback (most recent call last)",
      "Cell \u001b[1;32mIn[17], line 1\u001b[0m\n\u001b[1;32m----> 1\u001b[0m \u001b[38;5;28;01mimport\u001b[39;00m\u001b[38;5;250m \u001b[39m\u001b[38;5;21;01mmatplotlib\u001b[39;00m\u001b[38;5;21;01m.\u001b[39;00m\u001b[38;5;21;01mpyplot\u001b[39;00m\u001b[38;5;250m \u001b[39m\u001b[38;5;28;01mas\u001b[39;00m\u001b[38;5;250m \u001b[39m\u001b[38;5;21;01mplt\u001b[39;00m\n\u001b[0;32m      3\u001b[0m ax \u001b[38;5;241m=\u001b[39m df[\u001b[38;5;124m'\u001b[39m\u001b[38;5;124mday\u001b[39m\u001b[38;5;124m'\u001b[39m]\u001b[38;5;241m.\u001b[39mvalue_counts()\u001b[38;5;241m.\u001b[39mplot(kind\u001b[38;5;241m=\u001b[39m\u001b[38;5;124m'\u001b[39m\u001b[38;5;124mbar\u001b[39m\u001b[38;5;124m'\u001b[39m, color\u001b[38;5;241m=\u001b[39m\u001b[38;5;124m'\u001b[39m\u001b[38;5;124mskyblue\u001b[39m\u001b[38;5;124m'\u001b[39m)\n\u001b[0;32m      4\u001b[0m ax\u001b[38;5;241m.\u001b[39mset_title(\u001b[38;5;124m'\u001b[39m\u001b[38;5;124mZliczenie interwencji według dnia tygodnia\u001b[39m\u001b[38;5;124m'\u001b[39m)\n",
      "File \u001b[1;32mc:\\Users\\dawe2\\Desktop\\folder\\koddila\\matplotlib.py:1\u001b[0m\n\u001b[1;32m----> 1\u001b[0m \u001b[38;5;28;01mimport\u001b[39;00m\u001b[38;5;250m \u001b[39m\u001b[38;5;21;01mmatplotlib\u001b[39;00m\u001b[38;5;21;01m.\u001b[39;00m\u001b[38;5;21;01mpyplot\u001b[39;00m\u001b[38;5;250m \u001b[39m\u001b[38;5;28;01mas\u001b[39;00m\u001b[38;5;250m \u001b[39m\u001b[38;5;21;01mplt\u001b[39;00m\n\u001b[0;32m      2\u001b[0m \u001b[38;5;28;01mimport\u001b[39;00m\u001b[38;5;250m \u001b[39m\u001b[38;5;21;01mpandas\u001b[39;00m\u001b[38;5;250m \u001b[39m\u001b[38;5;28;01mas\u001b[39;00m\u001b[38;5;250m \u001b[39m\u001b[38;5;21;01mpd\u001b[39;00m\n\u001b[0;32m      4\u001b[0m \u001b[38;5;66;03m# Example data for zliczenia\u001b[39;00m\n",
      "\u001b[1;31mModuleNotFoundError\u001b[0m: No module named 'matplotlib.pyplot'; 'matplotlib' is not a package"
     ]
    }
   ],
   "source": [
    "import matplotlib.pyplot as plt\n",
    "\n",
    "ax = df['day'].value_counts().plot(kind='bar', color='skyblue')\n",
    "ax.set_title('Zliczenie interwencji według dnia tygodnia')\n",
    "ax.set_xlabel('Dzień tygodnia')\n",
    "ax.set_ylabel('Liczba interwencji')\n",
    "plt.show()\n"
   ]
  }
 ],
 "metadata": {
  "kernelspec": {
   "display_name": "Python 3",
   "language": "python",
   "name": "python3"
  },
  "language_info": {
   "codemirror_mode": {
    "name": "ipython",
    "version": 3
   },
   "file_extension": ".py",
   "mimetype": "text/x-python",
   "name": "python",
   "nbconvert_exporter": "python",
   "pygments_lexer": "ipython3",
   "version": "3.13.2"
  }
 },
 "nbformat": 4,
 "nbformat_minor": 2
}
