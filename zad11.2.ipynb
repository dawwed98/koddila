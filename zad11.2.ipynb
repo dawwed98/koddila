{
 "cells": [
  {
   "cell_type": "code",
   "execution_count": 2,
   "id": "80292206",
   "metadata": {},
   "outputs": [
    {
     "data": {
      "text/html": [
       "\n",
       "        <iframe\n",
       "            width=\"100%\"\n",
       "            height=\"650\"\n",
       "            src=\"http://127.0.0.1:8050/\"\n",
       "            frameborder=\"0\"\n",
       "            allowfullscreen\n",
       "            \n",
       "        ></iframe>\n",
       "        "
      ],
      "text/plain": [
       "<IPython.lib.display.IFrame at 0x2393544df90>"
      ]
     },
     "metadata": {},
     "output_type": "display_data"
    }
   ],
   "source": [
    "import dash\n",
    "from dash import html, dcc\n",
    "import plotly.graph_objs as go\n",
    "app = dash.Dash()\n",
    "\n",
    "data = [go.Scatter(x=[1,2,3,4],y=[10,20,30,40])]\n",
    "layout = go.Layout(title='Pierwszy wykres',width=600,height=600)\n",
    "fig = go.Figure(data=data,layout=layout)\n",
    "\n",
    "app.layout = html.Div(children=[\n",
    "    html.H1('Mój dashboard', style={'textAlign': 'center'}),\n",
    "    html.Div('Tu pojawi się coś ciekawego!', style={'textAlign': 'center', 'fontSize': 24}),\n",
    "    dcc.Graph(\n",
    "        id='first-graph',\n",
    "        figure=fig),\n",
    "    html.Div([dcc.Slider(\n",
    "        id='my-slider',\n",
    "        min=0,\n",
    "        max=10,\n",
    "        step=0.1,\n",
    "        value=5,\n",
    "        marks={i: str(i) for i in range(11)}\n",
    "    )], style={'width': '50%', 'margin': 'auto', 'padding': '20px'}),\n",
    "])\n",
    "\n",
    "if __name__ == '__main__':\n",
    "    app.run(debug=True)\n",
    "  "
   ]
  }
 ],
 "metadata": {
  "kernelspec": {
   "display_name": "Python 3",
   "language": "python",
   "name": "python3"
  },
  "language_info": {
   "codemirror_mode": {
    "name": "ipython",
    "version": 3
   },
   "file_extension": ".py",
   "mimetype": "text/x-python",
   "name": "python",
   "nbconvert_exporter": "python",
   "pygments_lexer": "ipython3",
   "version": "3.13.2"
  }
 },
 "nbformat": 4,
 "nbformat_minor": 5
}
